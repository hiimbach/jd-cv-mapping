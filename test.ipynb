{
 "cells": [
  {
   "metadata": {
    "ExecuteTime": {
     "end_time": "2024-07-05T03:59:30.163893Z",
     "start_time": "2024-07-05T03:59:28.932566Z"
    }
   },
   "cell_type": "code",
   "source": [
    "from src.llm_pipeline import JDExtractor, CVMapper\n",
    "from src.utils import pdf_to_text"
   ],
   "id": "initial_id",
   "outputs": [],
   "execution_count": 1
  },
  {
   "metadata": {
    "ExecuteTime": {
     "end_time": "2024-07-05T03:59:30.197839Z",
     "start_time": "2024-07-05T03:59:30.165023Z"
    }
   },
   "cell_type": "code",
   "source": [
    "pdf_path = '/Users/bachle/Main/Code/Projects/Resume_Checking/data/data/ARTS/11187796.pdf'\n",
    "text = pdf_to_text(pdf_path)\n",
    "\n",
    "print(text)"
   ],
   "id": "f8371e38827e4b8a",
   "outputs": [
    {
     "name": "stdout",
     "output_type": "stream",
     "text": [
      "MICHAEL'S ARTS AND CRAFTS STORE\n",
      "Summary\n",
      "I am a determined, hard-working individual with the zeal to accomplish any task or challenge I'm given, seeking to exceed expectations. In the next\n",
      "year, I plan to achieve a bachelor's degree in Environmental Technology and Management, and attain a job in the field of sustainable design and\n",
      "technologies.\n",
      "Experience\n",
      "Michael's Arts and Crafts Store\n",
      " \n",
      "March 2017\n",
      " \n",
      "to \n",
      "Current\n",
      " \n",
      "Company Name\n",
      " \n",
      "ï¼​ \n",
      "City\n",
      " \n",
      ", \n",
      "State\n",
      "Â (Capital Blvd. location)\n",
      "Aid Store Manager, Assistant Store Manager, Full-Time Replenishment Manager in day to day operations and planning; unload and stock\n",
      "store merchandise.\n",
      "Train new Replenishment associates.\n",
      "Employee of the Month (July)\n",
      "February 2016\n",
      " \n",
      "to \n",
      "March 2017\n",
      " \n",
      "Company Name\n",
      " \n",
      "ï¼​ \n",
      "City\n",
      " \n",
      ", \n",
      "State\n",
      "Provide customer service on the sales floor, manage day/night-time associates and store operations.\n",
      "Train and assess new associates.\n",
      "(Assumed position at Brier Creek, Raleigh, NC location in October 2015)\n",
      "June 2015\n",
      " \n",
      "to \n",
      "February 2016\n",
      " \n",
      "Company Name\n",
      " \n",
      "ï¼​ \n",
      "City\n",
      " \n",
      ", \n",
      "State\n",
      "(Brier Creek Location)\n",
      "Support Specialist:\n",
      "Prepare cash registers, count money, and prepare documentation for the bank deposit.\n",
      "Manage cashiers in the morning.\n",
      "Sales Associate/Cashier:\n",
      "Offer customer service and efficiently run a cash register.\n",
      "Knowledge and Certifications\n",
      "ArcGIS Program\n",
      "Water Quality Testing\n",
      "Stream Assessment\n",
      "Tree Inventory\n",
      "OSHA 40 Hour HAZWOPER Certification\n",
      "Education and Training\n",
      "Associate of Science\n",
      " \n",
      ": \n",
      "Liberal Arts Science and Mathematics\n",
      " \n",
      ", \n",
      "2015\n",
      " \n",
      "SUNY Adirondack\n",
      " \n",
      "ï¼​ \n",
      "City\n",
      " \n",
      ", \n",
      "State\n",
      "Dean's List\n",
      "Graduated Cum Laude\n",
      "Bachelor of Science\n",
      " \n",
      ": \n",
      "Environmental Technology and Management\n",
      " \n",
      ", \n",
      "2018\n",
      " \n",
      "North Carolina State University\n",
      " \n",
      "ï¼​ \n",
      "City\n",
      " \n",
      ", \n",
      "State\n",
      "Projects: Richard R. Lee Estate (Clayton, NC) Phase III Environmental Site Assessment\n",
      "Skills\n",
      "Customer Service\n",
      "Management\n",
      "Inventory Management\n",
      "Communication\n",
      "\n"
     ]
    }
   ],
   "execution_count": 2
  },
  {
   "metadata": {
    "ExecuteTime": {
     "end_time": "2024-07-05T03:59:30.200961Z",
     "start_time": "2024-07-05T03:59:30.198630Z"
    }
   },
   "cell_type": "code",
   "source": [
    "JD = \"\"\"\n",
    "Job Title: Environmental Project Manager\n",
    "\n",
    "Job Description:\n",
    "\n",
    "We are seeking a dedicated and detail-oriented Environmental Project Manager to join our team. The ideal candidate will be responsible for managing environmental projects, ensuring compliance with environmental regulations, and coordinating with various stakeholders. The candidate should have a strong background in environmental technology and management, excellent communication skills, and experience in project management.\n",
    "\n",
    "Responsibilities:\n",
    "\n",
    "\t•\tManage and oversee environmental projects from initiation to completion.\n",
    "\t•\tConduct environmental site assessments and prepare detailed reports.\n",
    "\t•\tEnsure compliance with local, state, and federal environmental regulations.\n",
    "\t•\tCoordinate with clients, contractors, and regulatory agencies to ensure project success.\n",
    "\t•\tDevelop and maintain project schedules, budgets, and resource plans.\n",
    "\t•\tProvide technical guidance and support to project teams.\n",
    "\t•\tCommunicate project status, risks, and issues to stakeholders.\n",
    "\t•\tEnsure project documentation is complete and accurate.\n",
    "\n",
    "Job Requirements:\n",
    "\n",
    "\t•\tBachelor’s Degree in Environmental Technology, Environmental Science, or a related field.\n",
    "\t•\tAt least 3 years of experience in environmental project management.\n",
    "\t•\tStrong understanding of environmental regulations and compliance.\n",
    "\t•\tExperience with environmental site assessments and remediation projects.\n",
    "\t•\tExcellent communication and interpersonal skills.\n",
    "\t•\tProven ability to manage multiple projects and meet deadlines.\n",
    "\t•\tStrong organizational and problem-solving skills.\n",
    "\t•\tProficiency in project management software and tools.\n",
    "\t•\tCertification in Project Management Professional (PMP) is a plus.\n",
    "\t•\tMaster’s Degree in Environmental Management or a related field is an advantage.\n",
    "\t•\tExperience with GIS software is an advantage.\n",
    "\"\"\""
   ],
   "id": "c0cbd2b3955552d1",
   "outputs": [],
   "execution_count": 3
  },
  {
   "metadata": {
    "ExecuteTime": {
     "end_time": "2024-07-05T03:59:30.206671Z",
     "start_time": "2024-07-05T03:59:30.201893Z"
    }
   },
   "cell_type": "code",
   "source": [
    "jd_extractor = JDExtractor()\n",
    "cv_mapper = CVMapper()"
   ],
   "id": "45975a3285d07098",
   "outputs": [],
   "execution_count": 4
  },
  {
   "metadata": {
    "ExecuteTime": {
     "end_time": "2024-07-05T03:59:33.221739Z",
     "start_time": "2024-07-05T03:59:30.208117Z"
    }
   },
   "cell_type": "code",
   "source": "requirements = jd_extractor.run(extract_type='hard_skill', jd=JD)",
   "id": "fa69b9ef780f2845",
   "outputs": [],
   "execution_count": 5
  },
  {
   "metadata": {
    "ExecuteTime": {
     "end_time": "2024-07-05T03:59:33.226318Z",
     "start_time": "2024-07-05T03:59:33.222626Z"
    }
   },
   "cell_type": "code",
   "source": "requirements",
   "id": "391c6e00ba8fc904",
   "outputs": [
    {
     "data": {
      "text/plain": [
       "'- Experience in environmental project management.\\n- Strong understanding of environmental regulations and compliance.\\n- Experience with environmental site assessments and remediation projects.\\n- Proficiency in project management software and tools.\\n'"
      ]
     },
     "execution_count": 6,
     "metadata": {},
     "output_type": "execute_result"
    }
   ],
   "execution_count": 6
  },
  {
   "metadata": {
    "ExecuteTime": {
     "end_time": "2024-07-05T03:59:33.229585Z",
     "start_time": "2024-07-05T03:59:33.227357Z"
    }
   },
   "cell_type": "code",
   "source": "print(requirements)",
   "id": "3b237eaca7057a1d",
   "outputs": [
    {
     "name": "stdout",
     "output_type": "stream",
     "text": [
      "- Experience in environmental project management.\n",
      "- Strong understanding of environmental regulations and compliance.\n",
      "- Experience with environmental site assessments and remediation projects.\n",
      "- Proficiency in project management software and tools.\n",
      "\n"
     ]
    }
   ],
   "execution_count": 7
  },
  {
   "metadata": {
    "ExecuteTime": {
     "end_time": "2024-07-10T01:35:08.605392Z",
     "start_time": "2024-07-10T01:35:08.598491Z"
    }
   },
   "cell_type": "code",
   "source": "",
   "id": "baba967b337ab94a",
   "outputs": [],
   "execution_count": 2
  }
 ],
 "metadata": {
  "kernelspec": {
   "display_name": "Python 3",
   "language": "python",
   "name": "python3"
  },
  "language_info": {
   "codemirror_mode": {
    "name": "ipython",
    "version": 2
   },
   "file_extension": ".py",
   "mimetype": "text/x-python",
   "name": "python",
   "nbconvert_exporter": "python",
   "pygments_lexer": "ipython2",
   "version": "2.7.6"
  }
 },
 "nbformat": 4,
 "nbformat_minor": 5
}
